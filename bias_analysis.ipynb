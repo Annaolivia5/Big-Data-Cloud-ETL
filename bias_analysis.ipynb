{
  "nbformat": 4,
  "nbformat_minor": 0,
  "metadata": {
    "colab": {
      "name": "bias-analysis.ipynb",
      "provenance": [],
      "collapsed_sections": []
    },
    "kernelspec": {
      "name": "python3",
      "display_name": "Python 3"
    },
    "language_info": {
      "name": "python"
    }
  },
  "cells": [
    {
      "cell_type": "code",
      "execution_count": 7,
      "metadata": {
        "colab": {
          "base_uri": "https://localhost:8080/"
        },
        "id": "4tlIqYPlqWSl",
        "outputId": "67a2ce61-e47a-4c6a-fffe-384e51a1b210"
      },
      "outputs": [
        {
          "output_type": "stream",
          "name": "stdout",
          "text": [
            "\r0% [Working]\r            \rHit:1 https://cloud.r-project.org/bin/linux/ubuntu bionic-cran40/ InRelease\n",
            "Ign:2 https://developer.download.nvidia.com/compute/cuda/repos/ubuntu1804/x86_64  InRelease\n",
            "Ign:3 https://developer.download.nvidia.com/compute/machine-learning/repos/ubuntu1804/x86_64  InRelease\n",
            "Hit:4 http://ppa.launchpad.net/c2d4u.team/c2d4u4.0+/ubuntu bionic InRelease\n",
            "Hit:5 http://security.ubuntu.com/ubuntu bionic-security InRelease\n",
            "Hit:6 https://developer.download.nvidia.com/compute/cuda/repos/ubuntu1804/x86_64  Release\n",
            "Hit:7 https://developer.download.nvidia.com/compute/machine-learning/repos/ubuntu1804/x86_64  Release\n",
            "Hit:8 http://archive.ubuntu.com/ubuntu bionic InRelease\n",
            "Hit:9 http://archive.ubuntu.com/ubuntu bionic-updates InRelease\n",
            "Hit:10 http://ppa.launchpad.net/cran/libgit2/ubuntu bionic InRelease\n",
            "Hit:11 http://archive.ubuntu.com/ubuntu bionic-backports InRelease\n",
            "Hit:12 http://ppa.launchpad.net/deadsnakes/ppa/ubuntu bionic InRelease\n",
            "Hit:13 http://ppa.launchpad.net/graphics-drivers/ppa/ubuntu bionic InRelease\n",
            "Reading package lists... Done\n"
          ]
        }
      ],
      "source": [
        "import os\n",
        "spark_version = 'spark-3.0.3'\n",
        "os.environ['SPARK_VERSION']=spark_version\n",
        "\n",
        "# Install Spark and Java\n",
        "!apt-get update\n",
        "!apt-get install openjdk-8-jdk-headless -qq > /dev/null\n",
        "!wget -q http://www.apache.org/dist/spark/$SPARK_VERSION/$SPARK_VERSION-bin-hadoop2.7.tgz\n",
        "!tar xf $SPARK_VERSION-bin-hadoop2.7.tgz\n",
        "!pip install -q findspark\n",
        "\n",
        "# Set Environment Variables\n",
        "os.environ[\"JAVA_HOME\"] = \"/usr/lib/jvm/java-8-openjdk-amd64\"\n",
        "os.environ[\"SPARK_HOME\"] = f\"/content/{spark_version}-bin-hadoop2.7\"\n",
        "\n",
        "# Start a SparkSession\n",
        "import findspark\n",
        "findspark.init()"
      ]
    },
    {
      "cell_type": "code",
      "source": [
        "!wget https://jdbc.postgresql.org/download/postgresql-42.2.9.jar"
      ],
      "metadata": {
        "colab": {
          "base_uri": "https://localhost:8080/"
        },
        "id": "Xw8dk6E8t6VY",
        "outputId": "039c3067-a100-46a3-a415-d8b38d9e3e10"
      },
      "execution_count": 8,
      "outputs": [
        {
          "output_type": "stream",
          "name": "stdout",
          "text": [
            "--2022-03-16 05:11:33--  https://jdbc.postgresql.org/download/postgresql-42.2.9.jar\n",
            "Resolving jdbc.postgresql.org (jdbc.postgresql.org)... 72.32.157.228, 2001:4800:3e1:1::228\n",
            "Connecting to jdbc.postgresql.org (jdbc.postgresql.org)|72.32.157.228|:443... connected.\n",
            "HTTP request sent, awaiting response... 200 OK\n",
            "Length: 914037 (893K) [application/java-archive]\n",
            "Saving to: ‘postgresql-42.2.9.jar.1’\n",
            "\n",
            "postgresql-42.2.9.j 100%[===================>] 892.61K  --.-KB/s    in 0.08s   \n",
            "\n",
            "2022-03-16 05:11:33 (10.3 MB/s) - ‘postgresql-42.2.9.jar.1’ saved [914037/914037]\n",
            "\n"
          ]
        }
      ]
    },
    {
      "cell_type": "code",
      "source": [
        "from pyspark.sql import SparkSession\n",
        "spark = SparkSession.builder.appName(\"CloudETL\").config(\"spark.driver.extraClassPath\",\"/content/postgresql-42.2.9.jar\").getOrCreate()"
      ],
      "metadata": {
        "id": "8bMRGYrNyVpO"
      },
      "execution_count": 9,
      "outputs": []
    },
    {
      "cell_type": "code",
      "source": [
        "import pandas as pd\n",
        "from sqlalchemy import create_engine"
      ],
      "metadata": {
        "id": "gA1WrdmBBZ8w"
      },
      "execution_count": 1,
      "outputs": []
    },
    {
      "cell_type": "code",
      "source": [
        "# Connect to database with SQLAlchemy\n",
        "password = '<password>'\n",
        "user = 'postgres'\n",
        "host = 'mypostgresdb.c3a0r7clbodu.us-east-1.rds.amazonaws.com'\n",
        "db = 'my_data_class_db'\n",
        "rds_connection_string = f\"{user}:{password}@{host}:5432/{db}\"\n",
        "\n",
        "engine = create_engine(f'postgresql://{rds_connection_string}')\n",
        "\n",
        "engine.table_names()"
      ],
      "metadata": {
        "colab": {
          "base_uri": "https://localhost:8080/"
        },
        "id": "TxM4mA5DBciq",
        "outputId": "bac93d34-9c92-41a3-89d1-1aa99b73b2da"
      },
      "execution_count": 28,
      "outputs": [
        {
          "output_type": "stream",
          "name": "stderr",
          "text": [
            "/usr/local/lib/python3.7/dist-packages/ipykernel_launcher.py:10: SADeprecationWarning: The Engine.table_names() method is deprecated and will be removed in a future release.  Please refer to Inspector.get_table_names(). (deprecated since: 1.4)\n",
            "  # Remove the CWD from sys.path while we load stuff.\n"
          ]
        },
        {
          "output_type": "execute_result",
          "data": {
            "text/plain": [
              "['review_id_table', 'products', 'customers', 'vine_table']"
            ]
          },
          "metadata": {},
          "execution_count": 28
        }
      ]
    },
    {
      "cell_type": "code",
      "source": [
        "# Then display vine_table table pandas\n",
        "pd.read_sql_query('SELECT * FROM vine_table', con=engine)"
      ],
      "metadata": {
        "colab": {
          "base_uri": "https://localhost:8080/",
          "height": 423
        },
        "id": "2Av8iiV1VJiW",
        "outputId": "d77d7e00-77b9-4dea-8269-4ef78f78ed6e"
      },
      "execution_count": 31,
      "outputs": [
        {
          "output_type": "execute_result",
          "data": {
            "text/plain": [
              "              review_id  star_rating  helpful_votes  total_votes vine\n",
              "0         R8EWA1OFT84NX            5              0            0    N\n",
              "1        R2JWY4YRQD4FOP            5              0            0    N\n",
              "2         RL5ESX231LZ0B            5              0            0    N\n",
              "3         RRMS9ZWJ2KD08            5              0            0    N\n",
              "4        R14I3ZG5E6S7YM            5              0            0    N\n",
              "...                 ...          ...            ...          ...  ...\n",
              "1752722   R7W6TPBOZ7WJZ            5              2            2    N\n",
              "1752723  R1Y4I7KYF7Y5MH            5              0            0    N\n",
              "1752724  R35M9WTWVWMLX9            5             27           27    N\n",
              "1752725  R2LUF1DDNNRNAJ            5             18           18    N\n",
              "1752726   RV7B3DO7H3GC8            5              2            2    N\n",
              "\n",
              "[1752727 rows x 5 columns]"
            ],
            "text/html": [
              "\n",
              "  <div id=\"df-315da9df-204c-4760-a673-50f6b25b1cb8\">\n",
              "    <div class=\"colab-df-container\">\n",
              "      <div>\n",
              "<style scoped>\n",
              "    .dataframe tbody tr th:only-of-type {\n",
              "        vertical-align: middle;\n",
              "    }\n",
              "\n",
              "    .dataframe tbody tr th {\n",
              "        vertical-align: top;\n",
              "    }\n",
              "\n",
              "    .dataframe thead th {\n",
              "        text-align: right;\n",
              "    }\n",
              "</style>\n",
              "<table border=\"1\" class=\"dataframe\">\n",
              "  <thead>\n",
              "    <tr style=\"text-align: right;\">\n",
              "      <th></th>\n",
              "      <th>review_id</th>\n",
              "      <th>star_rating</th>\n",
              "      <th>helpful_votes</th>\n",
              "      <th>total_votes</th>\n",
              "      <th>vine</th>\n",
              "    </tr>\n",
              "  </thead>\n",
              "  <tbody>\n",
              "    <tr>\n",
              "      <th>0</th>\n",
              "      <td>R8EWA1OFT84NX</td>\n",
              "      <td>5</td>\n",
              "      <td>0</td>\n",
              "      <td>0</td>\n",
              "      <td>N</td>\n",
              "    </tr>\n",
              "    <tr>\n",
              "      <th>1</th>\n",
              "      <td>R2JWY4YRQD4FOP</td>\n",
              "      <td>5</td>\n",
              "      <td>0</td>\n",
              "      <td>0</td>\n",
              "      <td>N</td>\n",
              "    </tr>\n",
              "    <tr>\n",
              "      <th>2</th>\n",
              "      <td>RL5ESX231LZ0B</td>\n",
              "      <td>5</td>\n",
              "      <td>0</td>\n",
              "      <td>0</td>\n",
              "      <td>N</td>\n",
              "    </tr>\n",
              "    <tr>\n",
              "      <th>3</th>\n",
              "      <td>RRMS9ZWJ2KD08</td>\n",
              "      <td>5</td>\n",
              "      <td>0</td>\n",
              "      <td>0</td>\n",
              "      <td>N</td>\n",
              "    </tr>\n",
              "    <tr>\n",
              "      <th>4</th>\n",
              "      <td>R14I3ZG5E6S7YM</td>\n",
              "      <td>5</td>\n",
              "      <td>0</td>\n",
              "      <td>0</td>\n",
              "      <td>N</td>\n",
              "    </tr>\n",
              "    <tr>\n",
              "      <th>...</th>\n",
              "      <td>...</td>\n",
              "      <td>...</td>\n",
              "      <td>...</td>\n",
              "      <td>...</td>\n",
              "      <td>...</td>\n",
              "    </tr>\n",
              "    <tr>\n",
              "      <th>1752722</th>\n",
              "      <td>R7W6TPBOZ7WJZ</td>\n",
              "      <td>5</td>\n",
              "      <td>2</td>\n",
              "      <td>2</td>\n",
              "      <td>N</td>\n",
              "    </tr>\n",
              "    <tr>\n",
              "      <th>1752723</th>\n",
              "      <td>R1Y4I7KYF7Y5MH</td>\n",
              "      <td>5</td>\n",
              "      <td>0</td>\n",
              "      <td>0</td>\n",
              "      <td>N</td>\n",
              "    </tr>\n",
              "    <tr>\n",
              "      <th>1752724</th>\n",
              "      <td>R35M9WTWVWMLX9</td>\n",
              "      <td>5</td>\n",
              "      <td>27</td>\n",
              "      <td>27</td>\n",
              "      <td>N</td>\n",
              "    </tr>\n",
              "    <tr>\n",
              "      <th>1752725</th>\n",
              "      <td>R2LUF1DDNNRNAJ</td>\n",
              "      <td>5</td>\n",
              "      <td>18</td>\n",
              "      <td>18</td>\n",
              "      <td>N</td>\n",
              "    </tr>\n",
              "    <tr>\n",
              "      <th>1752726</th>\n",
              "      <td>RV7B3DO7H3GC8</td>\n",
              "      <td>5</td>\n",
              "      <td>2</td>\n",
              "      <td>2</td>\n",
              "      <td>N</td>\n",
              "    </tr>\n",
              "  </tbody>\n",
              "</table>\n",
              "<p>1752727 rows × 5 columns</p>\n",
              "</div>\n",
              "      <button class=\"colab-df-convert\" onclick=\"convertToInteractive('df-315da9df-204c-4760-a673-50f6b25b1cb8')\"\n",
              "              title=\"Convert this dataframe to an interactive table.\"\n",
              "              style=\"display:none;\">\n",
              "        \n",
              "  <svg xmlns=\"http://www.w3.org/2000/svg\" height=\"24px\"viewBox=\"0 0 24 24\"\n",
              "       width=\"24px\">\n",
              "    <path d=\"M0 0h24v24H0V0z\" fill=\"none\"/>\n",
              "    <path d=\"M18.56 5.44l.94 2.06.94-2.06 2.06-.94-2.06-.94-.94-2.06-.94 2.06-2.06.94zm-11 1L8.5 8.5l.94-2.06 2.06-.94-2.06-.94L8.5 2.5l-.94 2.06-2.06.94zm10 10l.94 2.06.94-2.06 2.06-.94-2.06-.94-.94-2.06-.94 2.06-2.06.94z\"/><path d=\"M17.41 7.96l-1.37-1.37c-.4-.4-.92-.59-1.43-.59-.52 0-1.04.2-1.43.59L10.3 9.45l-7.72 7.72c-.78.78-.78 2.05 0 2.83L4 21.41c.39.39.9.59 1.41.59.51 0 1.02-.2 1.41-.59l7.78-7.78 2.81-2.81c.8-.78.8-2.07 0-2.86zM5.41 20L4 18.59l7.72-7.72 1.47 1.35L5.41 20z\"/>\n",
              "  </svg>\n",
              "      </button>\n",
              "      \n",
              "  <style>\n",
              "    .colab-df-container {\n",
              "      display:flex;\n",
              "      flex-wrap:wrap;\n",
              "      gap: 12px;\n",
              "    }\n",
              "\n",
              "    .colab-df-convert {\n",
              "      background-color: #E8F0FE;\n",
              "      border: none;\n",
              "      border-radius: 50%;\n",
              "      cursor: pointer;\n",
              "      display: none;\n",
              "      fill: #1967D2;\n",
              "      height: 32px;\n",
              "      padding: 0 0 0 0;\n",
              "      width: 32px;\n",
              "    }\n",
              "\n",
              "    .colab-df-convert:hover {\n",
              "      background-color: #E2EBFA;\n",
              "      box-shadow: 0px 1px 2px rgba(60, 64, 67, 0.3), 0px 1px 3px 1px rgba(60, 64, 67, 0.15);\n",
              "      fill: #174EA6;\n",
              "    }\n",
              "\n",
              "    [theme=dark] .colab-df-convert {\n",
              "      background-color: #3B4455;\n",
              "      fill: #D2E3FC;\n",
              "    }\n",
              "\n",
              "    [theme=dark] .colab-df-convert:hover {\n",
              "      background-color: #434B5C;\n",
              "      box-shadow: 0px 1px 3px 1px rgba(0, 0, 0, 0.15);\n",
              "      filter: drop-shadow(0px 1px 2px rgba(0, 0, 0, 0.3));\n",
              "      fill: #FFFFFF;\n",
              "    }\n",
              "  </style>\n",
              "\n",
              "      <script>\n",
              "        const buttonEl =\n",
              "          document.querySelector('#df-315da9df-204c-4760-a673-50f6b25b1cb8 button.colab-df-convert');\n",
              "        buttonEl.style.display =\n",
              "          google.colab.kernel.accessAllowed ? 'block' : 'none';\n",
              "\n",
              "        async function convertToInteractive(key) {\n",
              "          const element = document.querySelector('#df-315da9df-204c-4760-a673-50f6b25b1cb8');\n",
              "          const dataTable =\n",
              "            await google.colab.kernel.invokeFunction('convertToInteractive',\n",
              "                                                     [key], {});\n",
              "          if (!dataTable) return;\n",
              "\n",
              "          const docLinkHtml = 'Like what you see? Visit the ' +\n",
              "            '<a target=\"_blank\" href=https://colab.research.google.com/notebooks/data_table.ipynb>data table notebook</a>'\n",
              "            + ' to learn more about interactive tables.';\n",
              "          element.innerHTML = '';\n",
              "          dataTable['output_type'] = 'display_data';\n",
              "          await google.colab.output.renderOutput(dataTable, element);\n",
              "          const docLink = document.createElement('div');\n",
              "          docLink.innerHTML = docLinkHtml;\n",
              "          element.appendChild(docLink);\n",
              "        }\n",
              "      </script>\n",
              "    </div>\n",
              "  </div>\n",
              "  "
            ]
          },
          "metadata": {},
          "execution_count": 31
        }
      ]
    },
    {
      "cell_type": "code",
      "source": [
        "# or create spark df from vine_table\n",
        "table = 'vine_table'\n",
        "df = spark.read \\\n",
        "    .format(\"jdbc\") \\\n",
        "    .option(\"url\", f\"jdbc:postgresql://{host}:5432/{db}\") \\\n",
        "    .option(\"dbtable\", table) \\\n",
        "    .option(\"user\", user) \\\n",
        "    .option(\"password\", password) \\\n",
        "    .option(\"driver\", \"org.postgresql.Driver\") \\\n",
        "    .load()\n",
        "\n",
        "df.printSchema()"
      ],
      "metadata": {
        "colab": {
          "base_uri": "https://localhost:8080/"
        },
        "id": "xdI9yXDAUDdg",
        "outputId": "ed059838-bd7f-4a99-cb75-5cd92ce9feee"
      },
      "execution_count": 29,
      "outputs": [
        {
          "output_type": "stream",
          "name": "stdout",
          "text": [
            "root\n",
            " |-- review_id: string (nullable = true)\n",
            " |-- star_rating: integer (nullable = true)\n",
            " |-- helpful_votes: integer (nullable = true)\n",
            " |-- total_votes: integer (nullable = true)\n",
            " |-- vine: string (nullable = true)\n",
            "\n"
          ]
        }
      ]
    },
    {
      "cell_type": "code",
      "source": [
        "#display the spark df\n",
        "df.show()"
      ],
      "metadata": {
        "colab": {
          "base_uri": "https://localhost:8080/"
        },
        "id": "wI_AfhHSJVH5",
        "outputId": "0285354f-0b88-4e87-f03f-d02b84116450"
      },
      "execution_count": 32,
      "outputs": [
        {
          "output_type": "stream",
          "name": "stdout",
          "text": [
            "+--------------+-----------+-------------+-----------+----+\n",
            "|     review_id|star_rating|helpful_votes|total_votes|vine|\n",
            "+--------------+-----------+-------------+-----------+----+\n",
            "| R8EWA1OFT84NX|          5|            0|          0|   N|\n",
            "|R2JWY4YRQD4FOP|          5|            0|          0|   N|\n",
            "| RL5ESX231LZ0B|          5|            0|          0|   N|\n",
            "| RRMS9ZWJ2KD08|          5|            0|          0|   N|\n",
            "|R14I3ZG5E6S7YM|          5|            0|          0|   N|\n",
            "|R13EPSFP5DODN5|          4|            0|          0|   N|\n",
            "| R6RBP4HTE67SY|          5|            0|          0|   N|\n",
            "|R15B3EU40RSU2W|          5|            0|          0|   N|\n",
            "| RP4DD53A4ZJA2|          5|            0|          0|   N|\n",
            "|R2C99DJEO4RZ4K|          5|            3|          4|   N|\n",
            "| REV51EW323H8W|          5|            0|          0|   N|\n",
            "|R2GQ3W03WIUZKE|          5|            0|          0|   N|\n",
            "| RTI1YI7K6GE3D|          5|            0|          0|   N|\n",
            "|R3V9C2C0SPSZU6|          5|            0|          0|   N|\n",
            "|R1LB42XCSSCLV6|          5|            0|          0|   N|\n",
            "|R113NWCW6STTMC|          5|            0|          0|   N|\n",
            "| RWRN5XK337N41|          1|            0|          0|   N|\n",
            "| RF4WL3QEP3PVI|          1|            0|          0|   N|\n",
            "|R2DRL5NRODVQ3Z|          5|            2|          2|   N|\n",
            "|R3T9B92MDDHKMM|          2|            5|          5|   N|\n",
            "+--------------+-----------+-------------+-----------+----+\n",
            "only showing top 20 rows\n",
            "\n"
          ]
        }
      ]
    },
    {
      "cell_type": "code",
      "source": [
        "vine_df = df.filter(df.vine == \"Y\")\\\n",
        "  .groupBy('star_rating')\\\n",
        "  .agg({'vine':'count'})\\\n",
        "  .withColumnRenamed('count(vine)', 'Number of Vine Reviews')\\\n",
        "  .orderBy('star_rating')\n",
        "\n",
        "vine_df.show()"
      ],
      "metadata": {
        "colab": {
          "base_uri": "https://localhost:8080/"
        },
        "id": "ew1Vp7oVVkup",
        "outputId": "8135ba07-7855-4cbe-fc96-b769bc468c04"
      },
      "execution_count": 58,
      "outputs": [
        {
          "output_type": "stream",
          "name": "stdout",
          "text": [
            "+-----------+----------------------+\n",
            "|star_rating|Number of Vine Reviews|\n",
            "+-----------+----------------------+\n",
            "|          1|                   134|\n",
            "|          2|                   394|\n",
            "|          3|                  1320|\n",
            "|          4|                  4232|\n",
            "|          5|                  6019|\n",
            "+-----------+----------------------+\n",
            "\n"
          ]
        }
      ]
    },
    {
      "cell_type": "code",
      "source": [
        "non_vine_df = df.filter(df.vine == \"N\")\\\n",
        "  .groupBy('star_rating')\\\n",
        "  .agg({'vine':'count'})\\\n",
        "  .withColumnRenamed('count(vine)', 'Number of Vine Reviews')\\\n",
        "  .orderBy('star_rating')\n",
        "\n",
        "non_vine_df.show()"
      ],
      "metadata": {
        "colab": {
          "base_uri": "https://localhost:8080/"
        },
        "id": "AtC9DdkzXH0t",
        "outputId": "7898f311-5823-44ff-ebf4-bf4c3f7ec2b1"
      },
      "execution_count": 59,
      "outputs": [
        {
          "output_type": "stream",
          "name": "stdout",
          "text": [
            "+-----------+----------------------+\n",
            "|star_rating|Number of Vine Reviews|\n",
            "+-----------+----------------------+\n",
            "|          1|                144257|\n",
            "|          2|                100549|\n",
            "|          3|                148604|\n",
            "|          4|                283119|\n",
            "|          5|               1064099|\n",
            "+-----------+----------------------+\n",
            "\n"
          ]
        }
      ]
    },
    {
      "cell_type": "code",
      "source": [
        "#calculate the percent of vine reviews that are 5 stars, 4 stars, etc\n",
        "vine_review_count = vine_df.collect()[0][1] + vine_df.collect()[1][1] + vine_df.collect()[2][1] + vine_df.collect()[3][1] + vine_df.collect()[4][1]\n",
        "\n",
        "vine_one_star_percentage = vine_df.collect()[0][1] / vine_review_count \n",
        "vine_two_star_percentage = vine_df.collect()[1][1] / vine_review_count \n",
        "vine_three_star_percentage = vine_df.collect()[2][1] / vine_review_count \n",
        "vine_four_star_percentage = vine_df.collect()[3][1] / vine_review_count \n",
        "vine_five_star_percentage = vine_df.collect()[4][1] / vine_review_count \n",
        "\n",
        "print(f'% One-star Vine Reviews: %{round(vine_one_star_percentage * 100, 2)}')\n",
        "print(f'% Two-star Vine Reviews: %{round(vine_two_star_percentage * 100, 2)}')\n",
        "print(f'% Three-star Vine Reviews: %{round(vine_three_star_percentage * 100, 2)}')\n",
        "print(f'% Four-star Vine Reviews: %{round(vine_four_star_percentage * 100, 2)}')\n",
        "print(f'% Five-star Vine Reviews: %{round(vine_five_star_percentage * 100, 2)}')\n",
        "\n",
        "\n"
      ],
      "metadata": {
        "colab": {
          "base_uri": "https://localhost:8080/"
        },
        "id": "BgkPd22gb0eo",
        "outputId": "330ca041-1a0e-495c-8e24-388acb95f179"
      },
      "execution_count": 88,
      "outputs": [
        {
          "output_type": "stream",
          "name": "stdout",
          "text": [
            "% One-star Vine Reviews: %1.11\n",
            "% Two-star Vine Reviews: %3.26\n",
            "% Three-star Vine Reviews: %10.91\n",
            "% Four-star Vine Reviews: %34.98\n",
            "% Five-star Vine Reviews: %49.75\n"
          ]
        }
      ]
    },
    {
      "cell_type": "code",
      "source": [
        "#calculate the percent of vine reviews that are 5 stars, 4 stars, etc\n",
        "non_vine_review_count = non_vine_df.collect()[0][1] + non_vine_df.collect()[1][1] + non_vine_df.collect()[2][1] + non_vine_df.collect()[3][1] + non_vine_df.collect()[4][1]\n",
        "\n",
        "non_vine_one_star_percentage = non_vine_df.collect()[0][1] / non_vine_review_count \n",
        "non_vine_two_star_percentage = non_vine_df.collect()[1][1] / non_vine_review_count \n",
        "non_vine_three_star_percentage = non_vine_df.collect()[2][1] / non_vine_review_count \n",
        "non_vine_four_star_percentage = non_vine_df.collect()[3][1] / non_vine_review_count \n",
        "non_vine_five_star_percentage = non_vine_df.collect()[4][1] / non_vine_review_count \n",
        "\n",
        "print(f'% One-star Non_Vine Reviews: %{round(non_vine_one_star_percentage * 100, 2)}')\n",
        "print(f'% Two-star Non_Vine Reviews: %{round(non_vine_two_star_percentage * 100, 2)}')\n",
        "print(f'% Three-star Non_Vine Reviews: %{round(non_vine_three_star_percentage * 100, 2)}')\n",
        "print(f'% Four-star Non_Vine Reviews: %{round(non_vine_four_star_percentage * 100, 2)}')\n",
        "print(f'% Five-star Non_Vine Reviews: %{round(non_vine_five_star_percentage * 100, 2)}')"
      ],
      "metadata": {
        "colab": {
          "base_uri": "https://localhost:8080/"
        },
        "id": "G8D11OTmdJGb",
        "outputId": "9a8120dc-0af3-4e20-cf7a-7105be94a958"
      },
      "execution_count": 89,
      "outputs": [
        {
          "output_type": "stream",
          "name": "stdout",
          "text": [
            "% One-star Non_Vine Reviews: %8.29\n",
            "% Two-star Non_Vine Reviews: %5.78\n",
            "% Three-star Non_Vine Reviews: %8.54\n",
            "% Four-star Non_Vine Reviews: %16.27\n",
            "% Five-star Non_Vine Reviews: %61.13\n"
          ]
        }
      ]
    },
    {
      "cell_type": "code",
      "source": [
        ""
      ],
      "metadata": {
        "id": "vedOPnV_iDb4"
      },
      "execution_count": null,
      "outputs": []
    }
  ]
}