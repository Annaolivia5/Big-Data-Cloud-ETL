{
  "nbformat": 4,
  "nbformat_minor": 0,
  "metadata": {
    "colab": {
      "name": "bias-analysis.ipynb",
      "provenance": [],
      "collapsed_sections": []
    },
    "kernelspec": {
      "name": "python3",
      "display_name": "Python 3"
    },
    "language_info": {
      "name": "python"
    }
  },
  "cells": [
    {
      "cell_type": "code",
      "execution_count": 2,
      "metadata": {
        "colab": {
          "base_uri": "https://localhost:8080/"
        },
        "id": "4tlIqYPlqWSl",
        "outputId": "8d1de679-c741-4e2a-aa3d-4c1806517ec7"
      },
      "outputs": [
        {
          "output_type": "stream",
          "name": "stdout",
          "text": [
            "Get:1 http://security.ubuntu.com/ubuntu bionic-security InRelease [88.7 kB]\n",
            "Get:2 https://cloud.r-project.org/bin/linux/ubuntu bionic-cran40/ InRelease [3,626 B]\n",
            "Ign:3 https://developer.download.nvidia.com/compute/cuda/repos/ubuntu1804/x86_64  InRelease\n",
            "Get:4 http://ppa.launchpad.net/c2d4u.team/c2d4u4.0+/ubuntu bionic InRelease [15.9 kB]\n",
            "Ign:5 https://developer.download.nvidia.com/compute/machine-learning/repos/ubuntu1804/x86_64  InRelease\n",
            "Hit:6 https://developer.download.nvidia.com/compute/cuda/repos/ubuntu1804/x86_64  Release\n",
            "Hit:7 https://developer.download.nvidia.com/compute/machine-learning/repos/ubuntu1804/x86_64  Release\n",
            "Hit:8 http://archive.ubuntu.com/ubuntu bionic InRelease\n",
            "Get:9 http://archive.ubuntu.com/ubuntu bionic-updates InRelease [88.7 kB]\n",
            "Hit:10 http://ppa.launchpad.net/cran/libgit2/ubuntu bionic InRelease\n",
            "Get:11 http://security.ubuntu.com/ubuntu bionic-security/universe amd64 Packages [1,479 kB]\n",
            "Get:12 http://ppa.launchpad.net/deadsnakes/ppa/ubuntu bionic InRelease [15.9 kB]\n",
            "Get:13 http://archive.ubuntu.com/ubuntu bionic-backports InRelease [74.6 kB]\n",
            "Get:14 http://security.ubuntu.com/ubuntu bionic-security/main amd64 Packages [2,628 kB]\n",
            "Hit:16 http://ppa.launchpad.net/graphics-drivers/ppa/ubuntu bionic InRelease\n",
            "Get:18 http://ppa.launchpad.net/c2d4u.team/c2d4u4.0+/ubuntu bionic/main Sources [1,827 kB]\n",
            "Get:19 http://archive.ubuntu.com/ubuntu bionic-updates/universe amd64 Packages [2,257 kB]\n",
            "Get:20 http://ppa.launchpad.net/c2d4u.team/c2d4u4.0+/ubuntu bionic/main amd64 Packages [936 kB]\n",
            "Get:21 http://archive.ubuntu.com/ubuntu bionic-updates/main amd64 Packages [3,067 kB]\n",
            "Get:22 http://ppa.launchpad.net/deadsnakes/ppa/ubuntu bionic/main amd64 Packages [45.2 kB]\n",
            "Fetched 12.5 MB in 4s (3,278 kB/s)\n",
            "Reading package lists... Done\n"
          ]
        }
      ],
      "source": [
        "import os\n",
        "import pandas as pd\n",
        "\n",
        "spark_version = 'spark-3.0.3'\n",
        "os.environ['SPARK_VERSION']=spark_version\n",
        "\n",
        "# Install Spark and Java\n",
        "!apt-get update\n",
        "!apt-get install openjdk-8-jdk-headless -qq > /dev/null\n",
        "!wget -q http://www.apache.org/dist/spark/$SPARK_VERSION/$SPARK_VERSION-bin-hadoop2.7.tgz\n",
        "!tar xf $SPARK_VERSION-bin-hadoop2.7.tgz\n",
        "!pip install -q findspark\n",
        "\n",
        "# Set Environment Variables\n",
        "os.environ[\"JAVA_HOME\"] = \"/usr/lib/jvm/java-8-openjdk-amd64\"\n",
        "os.environ[\"SPARK_HOME\"] = f\"/content/{spark_version}-bin-hadoop2.7\"\n",
        "\n",
        "# Start a SparkSession\n",
        "import findspark\n",
        "findspark.init()"
      ]
    },
    {
      "cell_type": "code",
      "source": [
        "!wget https://jdbc.postgresql.org/download/postgresql-42.2.9.jar"
      ],
      "metadata": {
        "colab": {
          "base_uri": "https://localhost:8080/"
        },
        "id": "Xw8dk6E8t6VY",
        "outputId": "893202ad-8941-4089-df80-4328089c4250"
      },
      "execution_count": 3,
      "outputs": [
        {
          "output_type": "stream",
          "name": "stdout",
          "text": [
            "--2022-03-17 04:23:13--  https://jdbc.postgresql.org/download/postgresql-42.2.9.jar\n",
            "Resolving jdbc.postgresql.org (jdbc.postgresql.org)... 72.32.157.228, 2001:4800:3e1:1::228\n",
            "Connecting to jdbc.postgresql.org (jdbc.postgresql.org)|72.32.157.228|:443... connected.\n",
            "HTTP request sent, awaiting response... 200 OK\n",
            "Length: 914037 (893K) [application/java-archive]\n",
            "Saving to: ‘postgresql-42.2.9.jar’\n",
            "\n",
            "postgresql-42.2.9.j 100%[===================>] 892.61K  --.-KB/s    in 0.08s   \n",
            "\n",
            "2022-03-17 04:23:13 (10.3 MB/s) - ‘postgresql-42.2.9.jar’ saved [914037/914037]\n",
            "\n"
          ]
        }
      ]
    },
    {
      "cell_type": "code",
      "source": [
        "from pyspark.sql import SparkSession\n",
        "spark = SparkSession.builder.appName(\"CloudETL\").config(\"spark.driver.extraClassPath\",\"/content/postgresql-42.2.9.jar\").getOrCreate()"
      ],
      "metadata": {
        "id": "8bMRGYrNyVpO"
      },
      "execution_count": 4,
      "outputs": []
    },
    {
      "cell_type": "code",
      "source": [
        "import pandas as pd\n",
        "from sqlalchemy import create_engine"
      ],
      "metadata": {
        "id": "gA1WrdmBBZ8w"
      },
      "execution_count": 5,
      "outputs": []
    },
    {
      "cell_type": "code",
      "source": [
        "# Connect to database with SQLAlchemy\n",
        "password = '<pw>'\n",
        "user = 'postgres'\n",
        "host = 'mypostgresdb.c3a0r7clbodu.us-east-1.rds.amazonaws.com'\n",
        "db = 'my_data_class_db'\n",
        "rds_connection_string = f\"{user}:{password}@{host}:5432/{db}\"\n",
        "\n",
        "engine = create_engine(f'postgresql://{rds_connection_string}')\n",
        "\n",
        "# engine.table_names()\n",
        "\n",
        "# Then display vine_table with pandas\n",
        "# pd.read_sql_query('SELECT * FROM vine_table', con=engine)"
      ],
      "metadata": {
        "id": "TxM4mA5DBciq"
      },
      "execution_count": 82,
      "outputs": []
    },
    {
      "cell_type": "code",
      "source": [
        "# Create spark df from vine_table\n",
        "table = 'vine_table'\n",
        "df = spark.read \\\n",
        "    .format(\"jdbc\") \\\n",
        "    .option(\"url\", f\"jdbc:postgresql://{host}:5432/{db}\") \\\n",
        "    .option(\"dbtable\", table) \\\n",
        "    .option(\"user\", user) \\\n",
        "    .option(\"password\", password) \\\n",
        "    .option(\"driver\", \"org.postgresql.Driver\") \\\n",
        "    .load()\n",
        "\n",
        "df.printSchema()"
      ],
      "metadata": {
        "colab": {
          "base_uri": "https://localhost:8080/"
        },
        "id": "xdI9yXDAUDdg",
        "outputId": "8972429e-3344-48ce-85c2-97f5d0ddaf89"
      },
      "execution_count": 83,
      "outputs": [
        {
          "output_type": "stream",
          "name": "stdout",
          "text": [
            "root\n",
            " |-- review_id: string (nullable = true)\n",
            " |-- star_rating: integer (nullable = true)\n",
            " |-- helpful_votes: integer (nullable = true)\n",
            " |-- total_votes: integer (nullable = true)\n",
            " |-- vine: string (nullable = true)\n",
            "\n"
          ]
        }
      ]
    },
    {
      "cell_type": "code",
      "source": [
        "#display the spark df\n",
        "df.show()"
      ],
      "metadata": {
        "colab": {
          "base_uri": "https://localhost:8080/"
        },
        "id": "wI_AfhHSJVH5",
        "outputId": "755040ad-5725-4f20-97dd-21a8d0d06a02"
      },
      "execution_count": 84,
      "outputs": [
        {
          "output_type": "stream",
          "name": "stdout",
          "text": [
            "+--------------+-----------+-------------+-----------+----+\n",
            "|     review_id|star_rating|helpful_votes|total_votes|vine|\n",
            "+--------------+-----------+-------------+-----------+----+\n",
            "| R8EWA1OFT84NX|          5|            0|          0|   N|\n",
            "|R2JWY4YRQD4FOP|          5|            0|          0|   N|\n",
            "| RL5ESX231LZ0B|          5|            0|          0|   N|\n",
            "| RRMS9ZWJ2KD08|          5|            0|          0|   N|\n",
            "|R14I3ZG5E6S7YM|          5|            0|          0|   N|\n",
            "|R13EPSFP5DODN5|          4|            0|          0|   N|\n",
            "| R6RBP4HTE67SY|          5|            0|          0|   N|\n",
            "|R15B3EU40RSU2W|          5|            0|          0|   N|\n",
            "| RP4DD53A4ZJA2|          5|            0|          0|   N|\n",
            "|R2C99DJEO4RZ4K|          5|            3|          4|   N|\n",
            "| REV51EW323H8W|          5|            0|          0|   N|\n",
            "|R2GQ3W03WIUZKE|          5|            0|          0|   N|\n",
            "| RTI1YI7K6GE3D|          5|            0|          0|   N|\n",
            "|R3V9C2C0SPSZU6|          5|            0|          0|   N|\n",
            "|R1LB42XCSSCLV6|          5|            0|          0|   N|\n",
            "|R113NWCW6STTMC|          5|            0|          0|   N|\n",
            "| RWRN5XK337N41|          1|            0|          0|   N|\n",
            "| RF4WL3QEP3PVI|          1|            0|          0|   N|\n",
            "|R2DRL5NRODVQ3Z|          5|            2|          2|   N|\n",
            "|R3T9B92MDDHKMM|          2|            5|          5|   N|\n",
            "+--------------+-----------+-------------+-----------+----+\n",
            "only showing top 20 rows\n",
            "\n"
          ]
        }
      ]
    },
    {
      "cell_type": "code",
      "source": [
        "vine_df = df.filter(df.vine == \"Y\")\\\n",
        "  .groupBy('star_rating')\\\n",
        "  .agg({'vine':'count'})\\\n",
        "  .withColumnRenamed('count(vine)', 'Number of Vine Reviews')\\\n",
        "  .orderBy('star_rating')\n",
        "\n",
        "vine_df.show()"
      ],
      "metadata": {
        "colab": {
          "base_uri": "https://localhost:8080/"
        },
        "id": "ew1Vp7oVVkup",
        "outputId": "92b75d55-52e3-4577-af17-2541df67542a"
      },
      "execution_count": 85,
      "outputs": [
        {
          "output_type": "stream",
          "name": "stdout",
          "text": [
            "+-----------+----------------------+\n",
            "|star_rating|Number of Vine Reviews|\n",
            "+-----------+----------------------+\n",
            "|          1|                   134|\n",
            "|          2|                   394|\n",
            "|          3|                  1320|\n",
            "|          4|                  4232|\n",
            "|          5|                  6019|\n",
            "+-----------+----------------------+\n",
            "\n"
          ]
        }
      ]
    },
    {
      "cell_type": "code",
      "source": [
        "non_vine_df = df.filter(df.vine == \"N\")\\\n",
        "  .groupBy('star_rating')\\\n",
        "  .agg({'vine':'count'})\\\n",
        "  .withColumnRenamed('count(vine)', 'Number of Non-Vine Reviews')\\\n",
        "  .orderBy('star_rating')\n",
        "\n",
        "non_vine_df.show()"
      ],
      "metadata": {
        "colab": {
          "base_uri": "https://localhost:8080/"
        },
        "id": "AtC9DdkzXH0t",
        "outputId": "407fb83e-4785-4a82-8e42-62ac3b0dc21e"
      },
      "execution_count": 86,
      "outputs": [
        {
          "output_type": "stream",
          "name": "stdout",
          "text": [
            "+-----------+--------------------------+\n",
            "|star_rating|Number of Non-Vine Reviews|\n",
            "+-----------+--------------------------+\n",
            "|          1|                    144257|\n",
            "|          2|                    100549|\n",
            "|          3|                    148604|\n",
            "|          4|                    283119|\n",
            "|          5|                   1064099|\n",
            "+-----------+--------------------------+\n",
            "\n"
          ]
        }
      ]
    },
    {
      "cell_type": "code",
      "source": [
        "avg_star_df = df.select('star_rating').agg({'star_rating':'mean'})\n",
        "avg_star = avg_star_df.collect()[0][0]\n",
        "avg_star = round(avg_star, 0)\n",
        "print(f'Average star rating: {avg_star}')"
      ],
      "metadata": {
        "colab": {
          "base_uri": "https://localhost:8080/"
        },
        "id": "UxNLJLQnglQM",
        "outputId": "d12a6f64-a075-4b99-edfd-df33c108985a"
      },
      "execution_count": 87,
      "outputs": [
        {
          "output_type": "stream",
          "name": "stdout",
          "text": [
            "Average star rating: 4.0\n"
          ]
        }
      ]
    },
    {
      "cell_type": "code",
      "source": [
        "vine_review_count = vine_df.collect()[0][1] + vine_df.collect()[1][1] + vine_df.collect()[2][1] + vine_df.collect()[3][1] + vine_df.collect()[4][1]\n",
        "above_avg_vine_review_count = vine_df.collect()[3][1] + vine_df.collect()[4][1]\n",
        "\n",
        "non_vine_review_count = non_vine_df.collect()[0][1] + non_vine_df.collect()[1][1] + non_vine_df.collect()[2][1] + non_vine_df.collect()[3][1] + non_vine_df.collect()[4][1]\n",
        "above_avg_non_vine_review_count = non_vine_df.collect()[3][1] + non_vine_df.collect()[4][1]\n",
        "\n",
        "above_avg_vine_percentage = above_avg_vine_review_count / vine_review_count\n",
        "print(f'Percent of vine reviews rated at least average 4 stars: {round(above_avg_vine_percentage*100, 2)}%')\n",
        "\n",
        "above_avg_non_vine_percentage = above_avg_non_vine_review_count / non_vine_review_count\n",
        "print(f'Percent of non-vine reviews rated at least average 4 stars: {round(above_avg_non_vine_percentage*100, 2)}%')\n"
      ],
      "metadata": {
        "colab": {
          "base_uri": "https://localhost:8080/"
        },
        "id": "ftnfjA1gjs0Y",
        "outputId": "6ffcd012-ee3d-4039-f065-56671601e758"
      },
      "execution_count": 88,
      "outputs": [
        {
          "output_type": "stream",
          "name": "stdout",
          "text": [
            "Percent of vine reviews rated at least average 4 stars: 84.73%\n",
            "Percent of non-vine reviews rated at least average 4 stars: 77.4%\n"
          ]
        }
      ]
    },
    {
      "cell_type": "code",
      "source": [
        "#calculate the percent of vine reviews that are 5 stars, 4 stars, etc\n",
        "\n",
        "vine_one_star_percentage = vine_df.collect()[0][1] / vine_review_count \n",
        "vine_two_star_percentage = vine_df.collect()[1][1] / vine_review_count \n",
        "vine_three_star_percentage = vine_df.collect()[2][1] / vine_review_count \n",
        "vine_four_star_percentage = vine_df.collect()[3][1] / vine_review_count \n",
        "vine_five_star_percentage = vine_df.collect()[4][1] / vine_review_count \n",
        "\n",
        "print(f'% One-star Vine Reviews: %{round(vine_one_star_percentage * 100, 2)}')\n",
        "print(f'% Two-star Vine Reviews: %{round(vine_two_star_percentage * 100, 2)}')\n",
        "print(f'% Three-star Vine Reviews: %{round(vine_three_star_percentage * 100, 2)}')\n",
        "print(f'% Four-star Vine Reviews: %{round(vine_four_star_percentage * 100, 2)}')\n",
        "print(f'% Five-star Vine Reviews: %{round(vine_five_star_percentage * 100, 2)}')\n",
        "\n",
        "\n"
      ],
      "metadata": {
        "colab": {
          "base_uri": "https://localhost:8080/"
        },
        "id": "BgkPd22gb0eo",
        "outputId": "5f4e3ef2-4c03-45d1-f1be-f24392c77465"
      },
      "execution_count": 89,
      "outputs": [
        {
          "output_type": "stream",
          "name": "stdout",
          "text": [
            "% One-star Vine Reviews: %1.11\n",
            "% Two-star Vine Reviews: %3.26\n",
            "% Three-star Vine Reviews: %10.91\n",
            "% Four-star Vine Reviews: %34.98\n",
            "% Five-star Vine Reviews: %49.75\n"
          ]
        }
      ]
    },
    {
      "cell_type": "code",
      "source": [
        "#calculate the percent of vine reviews that are 5 stars, 4 stars, etc\n",
        "\n",
        "non_vine_one_star_percentage = non_vine_df.collect()[0][1] / non_vine_review_count \n",
        "non_vine_two_star_percentage = non_vine_df.collect()[1][1] / non_vine_review_count \n",
        "non_vine_three_star_percentage = non_vine_df.collect()[2][1] / non_vine_review_count \n",
        "non_vine_four_star_percentage = non_vine_df.collect()[3][1] / non_vine_review_count \n",
        "non_vine_five_star_percentage = non_vine_df.collect()[4][1] / non_vine_review_count \n",
        "\n",
        "print(f'% One-star Non_Vine Reviews: %{round(non_vine_one_star_percentage * 100, 2)}')\n",
        "print(f'% Two-star Non_Vine Reviews: %{round(non_vine_two_star_percentage * 100, 2)}')\n",
        "print(f'% Three-star Non_Vine Reviews: %{round(non_vine_three_star_percentage * 100, 2)}')\n",
        "print(f'% Four-star Non_Vine Reviews: %{round(non_vine_four_star_percentage * 100, 2)}')\n",
        "print(f'% Five-star Non_Vine Reviews: %{round(non_vine_five_star_percentage * 100, 2)}')"
      ],
      "metadata": {
        "colab": {
          "base_uri": "https://localhost:8080/"
        },
        "id": "G8D11OTmdJGb",
        "outputId": "fa91b256-e80f-4041-cc80-cb0c9953fd39"
      },
      "execution_count": 90,
      "outputs": [
        {
          "output_type": "stream",
          "name": "stdout",
          "text": [
            "% One-star Non_Vine Reviews: %8.29\n",
            "% Two-star Non_Vine Reviews: %5.78\n",
            "% Three-star Non_Vine Reviews: %8.54\n",
            "% Four-star Non_Vine Reviews: %16.27\n",
            "% Five-star Non_Vine Reviews: %61.13\n"
          ]
        }
      ]
    },
    {
      "cell_type": "markdown",
      "source": [
        "84.73% of vine reviews  scored at or above average (at least 4 stars) where as only 77.4% of non-vine reviews scored 4 or more stars."
      ],
      "metadata": {
        "id": "ws2Raebcn-Bu"
      }
    },
    {
      "cell_type": "code",
      "source": [
        ""
      ],
      "metadata": {
        "id": "cC3xiwURnuGB"
      },
      "execution_count": null,
      "outputs": []
    }
  ]
}